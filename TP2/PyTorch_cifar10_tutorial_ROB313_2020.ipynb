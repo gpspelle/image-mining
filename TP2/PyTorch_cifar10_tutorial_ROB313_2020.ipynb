{
 "cells": [
  {
   "cell_type": "markdown",
   "metadata": {
    "colab_type": "text",
    "id": "view-in-github"
   },
   "source": [
    "<a href=\"https://colab.research.google.com/github/gpspelle/image-mining/blob/master/PyTorch_cifar10_tutorial_ROB313_2020.ipynb\" target=\"_parent\"><img src=\"https://colab.research.google.com/assets/colab-badge.svg\" alt=\"Open In Colab\"/></a>"
   ]
  },
  {
   "cell_type": "markdown",
   "metadata": {
    "id": "4zsDWUk5cavn"
   },
   "source": [
    "# Deep Learning for Image Classification\n",
    "\n",
    "Welcome to deep learning for image classification tutorial!\n",
    "**In this notebook, you will**:\n",
    "- Learn the basics of PyTorch, a powerful but easy to use package for scientific computing (and deep learning)\n",
    "- Learn how to build and train a convolutional neural network for image classification.\n",
    "\n",
    "If you have never used jupyter notebooks, nor Colab notebooks, [here](https://colab.research.google.com/notebooks/welcome.ipynb) is a short intro.\n",
    "\n",
    "\n",
    "## I. PyTorch Tutorial\n",
    "\n",
    "We will briefly go through the basics of the PyTorch package, playing with toy examples.\n",
    "\n",
    "If you know already how to use PyTorch, then you can directly go to the second part of this tutorial\n",
    "\n",
    "## II. Training a classifier\n",
    "\n",
    "In this part, we will train a Convolutional Neural Network to classify images of 10 different classes (dogs, cats, car, ...) and see how our model performs on the test set.  \n",
    "\n",
    "\n",
    "## III. Exploring CNN Architectures\n",
    "\n",
    "This is the part where you get your hands dirty ;). Your mission is to experiment different CNN architectures and set hyperparameters in order to obtain the best accuracy on the test set!\n"
   ]
  },
  {
   "cell_type": "markdown",
   "metadata": {
    "id": "JgRltjas9PpN"
   },
   "source": [
    "The following command sets the backend of matplotlib to the 'inline' backend so that the output of plotting commands is displayed inline within frontends like the Jupyter notebook, directly below the code cell that produced it:"
   ]
  },
  {
   "cell_type": "code",
   "execution_count": 1,
   "metadata": {
    "id": "GkjN23FKt2D-"
   },
   "outputs": [],
   "source": [
    "%matplotlib inline"
   ]
  },
  {
   "cell_type": "markdown",
   "metadata": {
    "id": "YAz-fhRRdFaR"
   },
   "source": [
    "### Plotting functions and useful imports\n",
    "\n",
    "You can skip this part"
   ]
  },
  {
   "cell_type": "code",
   "execution_count": 2,
   "metadata": {
    "id": "nnee2WPudA9K"
   },
   "outputs": [],
   "source": [
    "# Python 2/3 compatibility\n",
    "from __future__ import print_function, division\n",
    "\n",
    "import itertools\n",
    "import time\n",
    "\n",
    "\n",
    "import numpy as np\n",
    "import matplotlib.pyplot as plt\n",
    "\n",
    "# Colors from Colorbrewer Paired_12\n",
    "colors = [[31, 120, 180], [51, 160, 44]]\n",
    "colors = [(r / 255, g / 255, b / 255) for (r, g, b) in colors]\n",
    "\n",
    "# functions to show an image\n",
    "def imshow(img):\n",
    "    \"\"\"\n",
    "    :param img: (PyTorch Tensor)\n",
    "    \"\"\"\n",
    "    # unnormalize\n",
    "    img = img / 2 + 0.5     \n",
    "    # Convert tensor to numpy array\n",
    "    npimg = img.numpy()\n",
    "    # Color channel first -> color channel last\n",
    "    plt.imshow(np.transpose(npimg, (1, 2, 0)))\n",
    "\n",
    "\n",
    "\n",
    "def plot_losses(train_history, val_history):\n",
    "    x = np.arange(1, len(train_history) + 1)\n",
    "\n",
    "    plt.figure(figsize=(8, 6))\n",
    "    plt.plot(x, train_history, color=colors[0], label=\"Training loss\", linewidth=2)\n",
    "    plt.plot(x, val_history, color=colors[1], label=\"Validation loss\", linewidth=2)\n",
    "    plt.xlabel('Epoch')\n",
    "    plt.ylabel('Loss')\n",
    "    plt.legend(loc='upper right')\n",
    "    plt.title(\"Evolution of the training and validation loss\")\n",
    "    plt.show()\n",
    "\n",
    "def plot_confusion_matrix(cm, classes,\n",
    "                          normalize=False,\n",
    "                          title='Confusion matrix',\n",
    "                          cmap=plt.cm.Blues):\n",
    "    \"\"\"\n",
    "    This function prints and plots the confusion matrix.\n",
    "    Normalization can be applied by setting `normalize=True`.\n",
    "    from http://scikit-learn.org/stable/auto_examples/model_selection/plot_confusion_matrix.html\n",
    "    :param cm: (numpy matrix) confusion matrix\n",
    "    :param classes: [str]\n",
    "    :param normalize: (bool)\n",
    "    :param title: (str)\n",
    "    :param cmap: (matplotlib color map)\n",
    "    \"\"\"\n",
    "    if normalize:\n",
    "        cm = cm.astype('float') / cm.sum(axis=1)[:, np.newaxis]\n",
    "        \n",
    "    plt.figure(figsize=(8, 8))   \n",
    "    plt.imshow(cm, interpolation='nearest', cmap=cmap)\n",
    "    plt.title(title)\n",
    "    plt.colorbar()\n",
    "    tick_marks = np.arange(len(classes))\n",
    "    plt.xticks(tick_marks, classes, rotation=45)\n",
    "    plt.yticks(tick_marks, classes)\n",
    "\n",
    "    fmt = '.2f' if normalize else 'd'\n",
    "    thresh = cm.max() / 2.\n",
    "    for i, j in itertools.product(range(cm.shape[0]), range(cm.shape[1])):\n",
    "        plt.text(j, i, format(cm[i, j], fmt),\n",
    "                 horizontalalignment=\"center\",\n",
    "                 color=\"white\" if cm[i, j] > thresh else \"black\")\n",
    "\n",
    "    plt.tight_layout()\n",
    "    plt.ylabel('True label')\n",
    "    plt.xlabel('Predicted label')"
   ]
  },
  {
   "cell_type": "markdown",
   "metadata": {
    "id": "aH_K9V7icav6"
   },
   "source": [
    "# I. What is PyTorch ?\n",
    "\n",
    "It’s a Python based scientific computing package targeted at two sets of audiences:\n",
    "\n",
    "- A replacement for numpy to use the power of GPUs\n",
    "- A deep learning research platform that provides maximum flexibility and speed\n",
    "\n",
    "\n",
    "## PyTorch Basics\n",
    "\n",
    "In the next steps, we will briefly see how to use PyTorch and exploit its power:\n",
    "\n",
    "1. PyTorch Installation\n",
    "2. PyTorch Tensors\n",
    "3. Numpy Bridge\n",
    "4. Automatic differentiation\n",
    "5. PyTorch and GPU (CUDA support)\n",
    "\n",
    "\n",
    "### 1. Install PyTorch and Torchvision\n",
    "\n"
   ]
  },
  {
   "cell_type": "code",
   "execution_count": 3,
   "metadata": {
    "id": "LcGVaagRcav8"
   },
   "outputs": [],
   "source": [
    "import numpy as np\n",
    "# Import torch and create the alias \"th\"\n",
    "# instead of writing torch.name_of_a_method() , we only need to write th.name_of_a_method()\n",
    "# (similarly to numpy imported as np)\n",
    "import torch as th"
   ]
  },
  {
   "cell_type": "code",
   "execution_count": 4,
   "metadata": {
    "colab": {
     "base_uri": "https://localhost:8080/",
     "height": 69
    },
    "id": "g2-brDDHcawE",
    "outputId": "67f8f3e6-ecb2-4348-faf6-9a40a576b8ee"
   },
   "outputs": [
    {
     "name": "stdout",
     "output_type": "stream",
     "text": [
      "tensor([[1., 1.],\n",
      "        [1., 1.],\n",
      "        [1., 1.]])\n"
     ]
    }
   ],
   "source": [
    "# Create tensor of ones (FloatTensor by default)\n",
    "ones = th.ones(3, 2)\n",
    "print(ones)"
   ]
  },
  {
   "cell_type": "markdown",
   "metadata": {
    "id": "6RvPibnScawC"
   },
   "source": [
    "### 2. PyTorch Tensors\n",
    "\n",
    "A `torch.Tensor` is a multi-dimensional matrix containing elements of a single data type.\n",
    "\n",
    "Tensors are similar to numpy’s ndarrays, but they have a super-power: Tensors can also be used on a GPU to accelerate computing."
   ]
  },
  {
   "cell_type": "markdown",
   "metadata": {
    "id": "QcJgJQERcawQ"
   },
   "source": [
    "#### Tensor Shape\n",
    "To know the shape of a given tensor, you can use the `.size()` method (the numpy equivalent is `.shape`)"
   ]
  },
  {
   "cell_type": "code",
   "execution_count": 5,
   "metadata": {
    "colab": {
     "base_uri": "https://localhost:8080/",
     "height": 34
    },
    "id": "SI96-W9acawS",
    "outputId": "a356d52f-900d-428f-afd6-bd9778245eaa"
   },
   "outputs": [
    {
     "name": "stdout",
     "output_type": "stream",
     "text": [
      "Tensor Shape: torch.Size([3, 2])\n"
     ]
    }
   ],
   "source": [
    "# Display the shape of a tensor\n",
    "# it can be used as a tuple\n",
    "print(\"Tensor Shape: {}\".format(ones.size()))"
   ]
  },
  {
   "cell_type": "markdown",
   "metadata": {
    "id": "pUPWrNarcawZ"
   },
   "source": [
    "#### Reshape tensors\n",
    "\n",
    "To reshape tensors (e.g. flatten a 3D tensor to a 1D array), you can use the `.view()` method:\n",
    "\n",
    "- **x.view(new_shape)**: Returns a new tensor with the same data but different size. It is the equivalent of numpy function *reshape* (Gives a new shape to an array without changing its data.). You can read the full documentation [here.](http://pytorch.org/docs/master/tensors.html#torch.Tensor.view)\n",
    "\n",
    "[WARNING] when precising a new shape, you have to make sure that the number of elements is constant.\n",
    "For example, a 2D matrix of size 3x3 can only be viewed as a 1D array of size $3 \\cdot 3 = 9$"
   ]
  },
  {
   "cell_type": "code",
   "execution_count": 6,
   "metadata": {
    "colab": {
     "base_uri": "https://localhost:8080/",
     "height": 69
    },
    "id": "vX-oxI6Vcawb",
    "outputId": "f00cbab1-60b3-44f2-d448-c2dae969b251"
   },
   "outputs": [
    {
     "name": "stdout",
     "output_type": "stream",
     "text": [
      "Original size: torch.Size([3, 2, 2])\n",
      "Reshaped tensor: torch.Size([12])\n",
      "Matrix shape: torch.Size([3, 4])\n"
     ]
    }
   ],
   "source": [
    "# Create a 3D tensor of size 3x2x2\n",
    "zeros_3d_tensor = th.zeros(3, 2, 2)\n",
    "print(\"Original size:\", zeros_3d_tensor.size())\n",
    "\n",
    "# Reshape it to a 1D array of size 3*2*2 = 12\n",
    "zeros_1d_array = zeros_3d_tensor.view(3 * 2 * 2)\n",
    "print(\"Reshaped tensor:\", zeros_1d_array.size())\n",
    "\n",
    "\n",
    "# Let's view our original tensor as a 2D matrix\n",
    "# If you want PyTorch to guess one remaining dimension,\n",
    "# you specify '-1' instead of the actual size\n",
    "zeros_2d_matrix = zeros_3d_tensor.view(-1, 2 * 2)\n",
    "\n",
    "print(\"Matrix shape:\", zeros_2d_matrix.size())"
   ]
  },
  {
   "cell_type": "markdown",
   "metadata": {
    "id": "kTO_FFswcawj"
   },
   "source": [
    "#### Basic Operations on tensors\n",
    "\n",
    "Tensor support all basic linear algebra operations. You can read the full documentation [here](http://pytorch.org/docs/master/tensors.html)"
   ]
  },
  {
   "cell_type": "code",
   "execution_count": 7,
   "metadata": {
    "colab": {
     "base_uri": "https://localhost:8080/",
     "height": 69
    },
    "id": "Ay7LvYeVcawl",
    "outputId": "8ff0ac9b-e17c-4b86-9e25-61a0133ba7fb"
   },
   "outputs": [
    {
     "data": {
      "text/plain": [
       "tensor([[3., 3.],\n",
       "        [3., 3.],\n",
       "        [3., 3.]])"
      ]
     },
     "execution_count": 7,
     "metadata": {},
     "output_type": "execute_result"
    }
   ],
   "source": [
    "2 * ones + 1"
   ]
  },
  {
   "cell_type": "markdown",
   "metadata": {
    "id": "OD7ZOT4jcaws"
   },
   "source": [
    "PyTorch tensors also supports numpy indexing:"
   ]
  },
  {
   "cell_type": "code",
   "execution_count": 8,
   "metadata": {
    "colab": {
     "base_uri": "https://localhost:8080/",
     "height": 69
    },
    "id": "srzDzj_ocawu",
    "outputId": "d1b67df5-ac85-417c-e637-fac2276ce362"
   },
   "outputs": [
    {
     "name": "stdout",
     "output_type": "stream",
     "text": [
      "\n",
      " Indexing Demo:\n",
      "tensor([1., 1., 1.])\n"
     ]
    }
   ],
   "source": [
    "print(\"\\n Indexing Demo:\")\n",
    "print(ones[:, 1])"
   ]
  },
  {
   "cell_type": "markdown",
   "metadata": {
    "id": "xrjqKguqcaw0"
   },
   "source": [
    "### 3. Numpy Bridge\n",
    "WARNING: PyTorch Tensors are different from numpy arrays\n",
    "even if they have a lot in common\n",
    "\n",
    "Though, it is **easy with PyTorch to tranform Tensors to Numpy arrays and vice versa**"
   ]
  },
  {
   "cell_type": "markdown",
   "metadata": {
    "id": "gVAntrTVcaw3"
   },
   "source": [
    "#### Numpy <-> PyTorch\n",
    "\n",
    "Creating PyTorch tensors from numpy array is done via the `torch.from_numpy()` function  \n",
    "(here `th.from_numpy()` because we renamed *torch* as *th*)\n",
    "\n",
    "To transform a PyTorch tensor to a numpy array, you can simply call `.numpy()` method."
   ]
  },
  {
   "cell_type": "code",
   "execution_count": 9,
   "metadata": {
    "colab": {
     "base_uri": "https://localhost:8080/",
     "height": 121
    },
    "id": "t2ENcAKOcaw5",
    "outputId": "2d0e593e-6147-498e-de5b-d63f4ffdd2f3"
   },
   "outputs": [
    {
     "name": "stdout",
     "output_type": "stream",
     "text": [
      "PyTorch Tensor:\n",
      "tensor([[1., 1.],\n",
      "        [1., 1.]])\n",
      "Numpy Matrix:\n",
      "[[1. 1.]\n",
      " [1. 1.]]\n"
     ]
    }
   ],
   "source": [
    "# np.float32 -> th.FloatTensor\n",
    "ones_matrix = np.ones((2, 2), dtype=np.float32)\n",
    "\n",
    "# the matrix is passed by reference:\n",
    "# if we modify the original numpy array, the tensor is also edited\n",
    "ones_tensor = th.from_numpy(ones_matrix)\n",
    "# Convert back to a numpy matrix\n",
    "numpy_matrix = ones_tensor.numpy()\n",
    "\n",
    "print(\"PyTorch Tensor:\")\n",
    "print(ones_tensor)\n",
    "\n",
    "print(\"Numpy Matrix:\")\n",
    "print(numpy_matrix)"
   ]
  },
  {
   "cell_type": "markdown",
   "metadata": {
    "id": "Y0Itjyg-caxD"
   },
   "source": [
    "### 4. Automatic Differentiation\n",
    "\n",
    "Pytorch tensors allow to **automatically compute gradients**. That is particulary useful for backpropagation.\n",
    "\n",
    "Once you finish your computation you can call `.backward()` and have all the gradients computed automatically.\n",
    "\n",
    "You can access the gradient w.r.t. this variable using `.grad`.\n"
   ]
  },
  {
   "cell_type": "code",
   "execution_count": 10,
   "metadata": {
    "colab": {
     "base_uri": "https://localhost:8080/",
     "height": 52
    },
    "id": "WrPNcIpYcaxK",
    "outputId": "f82a8d63-1b13-4758-af05-6c78bb91f277"
   },
   "outputs": [
    {
     "name": "stdout",
     "output_type": "stream",
     "text": [
      "tensor([[1., 1.],\n",
      "        [1., 1.]], requires_grad=True)\n"
     ]
    }
   ],
   "source": [
    "# We need to specify that we want to compute the gradient\n",
    "# as it requires extra memory and computation\n",
    "ones_tensor = th.ones(2,2, requires_grad=True)\n",
    "\n",
    "print(ones_tensor)"
   ]
  },
  {
   "cell_type": "markdown",
   "metadata": {
    "id": "IEZDUibxcaxj"
   },
   "source": [
    "To demonstrate the use of PyTorch Variable,\n",
    "let's define a simple linear transformation of a variable $x$ :\n",
    "\n",
    "$$y = a \\cdot x + b$$\n",
    "\n",
    "PyTorch will allows us to automatically compute $$\\frac{dy}{dx} $$"
   ]
  },
  {
   "cell_type": "code",
   "execution_count": 11,
   "metadata": {
    "colab": {
     "base_uri": "https://localhost:8080/",
     "height": 34
    },
    "id": "A4j85JjZcaxl",
    "outputId": "a62c1400-06d8-4d16-d4ef-399d27acaa02"
   },
   "outputs": [
    {
     "name": "stdout",
     "output_type": "stream",
     "text": [
      "tensor([7.], grad_fn=<AddBackward0>)\n"
     ]
    }
   ],
   "source": [
    "# Create a tensor and tell PyTorch\n",
    "# that we want to compute the gradient\n",
    "x = th.ones(1, requires_grad=True)\n",
    "\n",
    "# Transformation constants\n",
    "a = 2\n",
    "b = 5\n",
    "\n",
    "# Define the tranformation and store the result\n",
    "# in a new variable\n",
    "y = a * x + b\n",
    "\n",
    "print(y)"
   ]
  },
  {
   "cell_type": "markdown",
   "metadata": {
    "id": "_mxnlvwxcaxq"
   },
   "source": [
    "Let's backprop!"
   ]
  },
  {
   "cell_type": "code",
   "execution_count": 12,
   "metadata": {
    "id": "X1i-pN-Fcaxs"
   },
   "outputs": [],
   "source": [
    "y.backward()"
   ]
  },
  {
   "cell_type": "markdown",
   "metadata": {
    "id": "skgIGZdmcaxw"
   },
   "source": [
    "`x.grad` prints the gradient:\n",
    "\n",
    "$$\\frac{dy}{dx} = a$$\n",
    "\n",
    "because:\n",
    "\n",
    "$$y = a \\cdot x + b$$"
   ]
  },
  {
   "cell_type": "code",
   "execution_count": 13,
   "metadata": {
    "colab": {
     "base_uri": "https://localhost:8080/",
     "height": 34
    },
    "id": "_TYbuwsXcaxx",
    "outputId": "a105178c-7554-4778-a828-25441f4aea48"
   },
   "outputs": [
    {
     "data": {
      "text/plain": [
       "tensor([2.])"
      ]
     },
     "execution_count": 13,
     "metadata": {},
     "output_type": "execute_result"
    }
   ],
   "source": [
    "x.grad"
   ]
  },
  {
   "cell_type": "markdown",
   "metadata": {
    "id": "ggu-PBGvcax3"
   },
   "source": [
    "You can now change the values of $a$ and $b$ see their effects on the gradient\n",
    "(HINT: `x.grad` only depends on the value of `a`)"
   ]
  },
  {
   "cell_type": "markdown",
   "metadata": {
    "id": "8iPn0C59cax5"
   },
   "source": [
    "### 5. PyTorch and GPU (CUDA support)\n",
    "\n",
    "Google colab provides a CUDA enabled GPU, so we are going to use its power. \n",
    "You can move tensor to the GPU by simply using the `to()` method.\n",
    "Otherwise, PyTorch will use the CPU.\n",
    "\n",
    "Here, we will demonstrate the usefulness of the GPU on a simple matrix multiplication:"
   ]
  },
  {
   "cell_type": "code",
   "execution_count": 14,
   "metadata": {
    "colab": {
     "base_uri": "https://localhost:8080/",
     "height": 52
    },
    "id": "EwF6ePTpeefQ",
    "outputId": "c8f5ab2c-7f1d-4d5d-acd5-d71eb5921752"
   },
   "outputs": [
    {
     "name": "stdout",
     "output_type": "stream",
     "text": [
      "Time on CPU: 0.01517s \t Time on GPU: 0.15076s\n",
      "Speed up: Computation was 0X faster on GPU!\n"
     ]
    }
   ],
   "source": [
    "if th.cuda.is_available():\n",
    "  # Create tensors\n",
    "  x = th.ones(1000, 1000)\n",
    "  y = 2 * x + 3\n",
    "  # Do the calculation on cpu (default)\n",
    "  start_time = time.time()\n",
    "  # Matrix multiplication (for benchmark purpose)\n",
    "  results = th.mm(x, y)\n",
    "  time_cpu = time.time() - start_time\n",
    "  \n",
    "  # Do the same calculation but on the gpu\n",
    "  # First move tensors to gpu\n",
    "  x = x.to(\"cuda\")\n",
    "  y = y.to(\"cuda\")\n",
    "  start_time = time.time()\n",
    "  # Matrix multiplication (for benchmark purpose)\n",
    "  results = th.mm(x, y)\n",
    "  time_gpu = time.time() - start_time\n",
    "  \n",
    "  print(\"Time on CPU: {:.5f}s \\t Time on GPU: {:.5f}s\".format(time_cpu, time_gpu))\n",
    "  print(\"Speed up: Computation was {:.0f}X faster on GPU!\".format(time_cpu / time_gpu))\n",
    "  \n",
    "else:\n",
    "  print(\"You need to enable GPU accelaration in colab (runtime->change runtime type)\")"
   ]
  },
  {
   "cell_type": "markdown",
   "metadata": {
    "id": "E-AOzDy9lFwi"
   },
   "source": [
    "As expected, matrix multiplication is way faster on a GPU, so we'd better use it."
   ]
  },
  {
   "cell_type": "markdown",
   "metadata": {
    "id": "0kqEBjG6t2Eh"
   },
   "source": [
    "\n",
    "# II. Training a classifier\n",
    "\n",
    "\n",
    "For this tutorial, we will use the CIFAR10 dataset.\n",
    "There are 10 classes: ‘airplane’, ‘automobile’, ‘bird’, ‘cat’, ‘deer’,\n",
    "‘dog’, ‘frog’, ‘horse’, ‘ship’, ‘truck’. The images in CIFAR-10 are of\n",
    "size 3x32x32, i.e. 3-channel color images of 32x32 pixels in size.\n",
    "\n",
    "\n",
    "![CIFAR10](http://pytorch.org/tutorials/_images/cifar10.png)\n",
    "\n",
    "\n",
    "Training an image classifier\n",
    "----------------------------\n",
    "\n",
    "We will do the following steps in order:\n",
    "\n",
    "1. Load and normalize the CIFAR10 training and test datasets using\n",
    "   ``torchvision``\n",
    "2. Define a Convolution Neural Network\n",
    "3. Define a loss function\n",
    "4. Train the network on the training data\n",
    "5. Test the network on the test data"
   ]
  },
  {
   "cell_type": "markdown",
   "metadata": {
    "id": "UWTdj2uYcax7"
   },
   "source": [
    "### 1. Loading and normalizing CIFAR10 Dataset\n",
    "\n",
    "Using ``torchvision``, it’s extremely easy to load CIFAR10."
   ]
  },
  {
   "cell_type": "code",
   "execution_count": 15,
   "metadata": {
    "id": "KRrvrIi0t2Em"
   },
   "outputs": [],
   "source": [
    "import torch\n",
    "import torchvision\n",
    "import torchvision.transforms as transforms"
   ]
  },
  {
   "cell_type": "markdown",
   "metadata": {
    "id": "iX2ltR_zcayA"
   },
   "source": [
    "Seed the random generator to have reproducible results:"
   ]
  },
  {
   "cell_type": "code",
   "execution_count": 16,
   "metadata": {
    "id": "335xvR6acayB"
   },
   "outputs": [],
   "source": [
    "seed = 42\n",
    "np.random.seed(seed)\n",
    "torch.manual_seed(seed)\n",
    "\n",
    "if th.cuda.is_available():\n",
    "  # Make CuDNN Determinist\n",
    "  th.backends.cudnn.deterministic = True\n",
    "  th.cuda.manual_seed(seed)\n",
    "\n",
    "# Define default device, we should use the GPU (cuda) if available\n",
    "device = th.device(\"cuda\" if th.cuda.is_available() else \"cpu\")\n"
   ]
  },
  {
   "cell_type": "markdown",
   "metadata": {
    "id": "7EzIeyD4cayG"
   },
   "source": [
    "### Define subset of the dataset (so it is faster to train)"
   ]
  },
  {
   "cell_type": "code",
   "execution_count": 17,
   "metadata": {
    "id": "Nwu-wWh3cayI"
   },
   "outputs": [],
   "source": [
    "from torch.utils.data.sampler import SubsetRandomSampler\n",
    "\n",
    "n_training_samples = 40000 # Max: 50 000 - n_val_samples\n",
    "n_val_samples = 10000\n",
    "\n",
    "\n",
    "train_sampler = SubsetRandomSampler(np.arange(n_training_samples, dtype=np.int64))\n",
    "val_sampler = SubsetRandomSampler(np.arange(n_training_samples, n_training_samples + n_val_samples, dtype=np.int64))\n",
    "#test_sampler = SubsetRandomSampler(np.arange(n_test_samples, dtype=np.int64))  # we can use it to test on a subset\n",
    "# (In the last case, indexes do not need to account for training ones because the train=False parameter in datasets.CIFAR will select from the test set)"
   ]
  },
  {
   "cell_type": "markdown",
   "metadata": {
    "id": "evFXNmbst2Ez"
   },
   "source": [
    "The output of torchvision datasets are PILImage images of range [0, 1].\n",
    "We transform them to Tensors of normalized range [-1, 1]\n",
    "\n"
   ]
  },
  {
   "cell_type": "code",
   "execution_count": 18,
   "metadata": {
    "colab": {
     "base_uri": "https://localhost:8080/",
     "height": 52
    },
    "id": "ZJ-hYN00t2E2",
    "outputId": "9d5f5535-38c2-4ab8-bc94-f5889fe8cfa9"
   },
   "outputs": [
    {
     "name": "stdout",
     "output_type": "stream",
     "text": [
      "Files already downloaded and verified\n",
      "Files already downloaded and verified\n"
     ]
    }
   ],
   "source": [
    "num_workers = 5\n",
    "test_batch_size = 4\n",
    "\n",
    "transform = transforms.Compose(\n",
    "    [transforms.ToTensor(),\n",
    "     transforms.Normalize(mean=(0.5, 0.5, 0.5), std=(0.5, 0.5, 0.5))])\n",
    "\n",
    "train_set = torchvision.datasets.CIFAR10(root='./data', train=True,\n",
    "                                        download=True, transform=transform)\n",
    "\n",
    "train_loader = torch.utils.data.DataLoader(train_set, batch_size=test_batch_size, sampler=train_sampler,\n",
    "                                          num_workers=num_workers)\n",
    "\n",
    "test_set = torchvision.datasets.CIFAR10(root='./data', train=False,\n",
    "                                       download=True, transform=transform)\n",
    "test_loader = torch.utils.data.DataLoader(test_set, batch_size=test_batch_size,\n",
    "                                         num_workers=num_workers)\n",
    "\n",
    "classes = ('plane', 'car', 'bird', 'cat',\n",
    "           'deer', 'dog', 'frog', 'horse', 'ship', 'truck')"
   ]
  },
  {
   "cell_type": "markdown",
   "metadata": {
    "id": "cGWVnBOft2FI"
   },
   "source": [
    "Let us show some of the training images, for fun.\n",
    "\n"
   ]
  },
  {
   "cell_type": "code",
   "execution_count": 19,
   "metadata": {
    "colab": {
     "base_uri": "https://localhost:8080/",
     "height": 155
    },
    "id": "68OfC35ut2FM",
    "outputId": "a0822fcb-19cd-43b9-92d9-b5953c4f1589"
   },
   "outputs": [
    {
     "name": "stdout",
     "output_type": "stream",
     "text": [
      "     horse        cat        cat      horse\n"
     ]
    },
    {
     "data": {
      "image/png": "[encoded data removed]",
      "text/plain": [
       "<Figure size 432x288 with 1 Axes>"
      ]
     },
     "metadata": {
      "needs_background": "light"
     },
     "output_type": "display_data"
    }
   ],
   "source": [
    "# get some random training images\n",
    "dataiter = iter(train_loader)\n",
    "images, labels = dataiter.next()\n",
    "\n",
    "# show images\n",
    "imshow(torchvision.utils.make_grid(images))\n",
    "# print labels\n",
    "print(' '.join('{:>10}'.format(classes[labels[j]]) for j in range(test_batch_size)))"
   ]
  },
  {
   "cell_type": "markdown",
   "metadata": {
    "id": "8ULHEu5Zt2Fa"
   },
   "source": [
    "### 2. Define a Convolution Neural Network\n"
   ]
  },
  {
   "cell_type": "code",
   "execution_count": 20,
   "metadata": {
    "id": "6k6rJyTTcayi"
   },
   "outputs": [],
   "source": [
    "# Useful imports\n",
    "import torch.nn as nn\n",
    "import torch.nn.functional as F"
   ]
  },
  {
   "cell_type": "markdown",
   "metadata": {
    "id": "0JcmlEe8t2Fe"
   },
   "source": [
    "####  Forward propagation\n",
    "\n",
    "In PyTorch, there are built-in functions that carry out the convolution steps for you.\n",
    "\n",
    "- **nn.Conv2d(in_channels, out_channels, kernel_size, stride=1, padding=0):** Convolution layer. You can read the full documentation [here](http://pytorch.org/docs/master/nn.html#conv2d)\n",
    "\n",
    "- **nn.MaxPool2d(kernel_size, stride=None, padding=0):** Max pooling layer. You can read the full documentation [here](http://pytorch.org/docs/master/nn.html#maxpool2d)\n",
    "\n",
    "- **F.relu(Z1):** computes the elementwise ReLU of Z1 (which can be any shape). You can read the full documentation [here.](http://pytorch.org/docs/master/nn.html#torch.nn.ReLU)\n",
    "\n",
    "- **x.view(new_shape)**: Returns a new tensor with the same data but different size. It is the equivalent of numpy function *reshape* (Gives a new shape to an array without changing its data). You can read the full documentation [here.](http://pytorch.org/docs/master/tensors.html#torch.Tensor.view)\n",
    "\n",
    "- **nn.Linear(in_features, out_features):** Applies a linear transformation to the incoming data: $y = Ax + b$, it is also called a fully connected layer. You can read the full documentation [here.](http://pytorch.org/docs/master/nn.html#linear-layers)"
   ]
  },
  {
   "cell_type": "markdown",
   "metadata": {
    "id": "rbykSRDTcaym"
   },
   "source": [
    "#### Simple Convolutional Neural Network\n",
    "\n",
    "ConvNet with one convolution layer followed by a max pooling operation,\n",
    "one fully connected layer and an output layer"
   ]
  },
  {
   "cell_type": "code",
   "execution_count": 21,
   "metadata": {
    "id": "X4pljAWycayn"
   },
   "outputs": [],
   "source": [
    "class SimpleConvolutionalNetwork(nn.Module):\n",
    "    def __init__(self):\n",
    "        super(SimpleConvolutionalNetwork, self).__init__()\n",
    "        \n",
    "        self.conv1 = nn.Conv2d(3, 18, kernel_size=3, stride=1, padding=1)\n",
    "        self.pool = nn.MaxPool2d(kernel_size=2, stride=2, padding=0)\n",
    "        \n",
    "        # cf comments in forward() to have step by step comments\n",
    "        # on the shape (how we pass from a 3x32x32 input image to a 18x16x16 volume)\n",
    "        self.fc1 = nn.Linear(18 * 16 * 16, 64) \n",
    "        self.fc2 = nn.Linear(64, 10)\n",
    "\n",
    "    def forward(self, x):\n",
    "        \"\"\"\n",
    "        Forward pass,\n",
    "        x shape is (batch_size, 3, 32, 32)\n",
    "        (color channel first)\n",
    "        in the comments, we omit the batch_size in the shape\n",
    "        \"\"\"\n",
    "        # shape : 3x32x32 -> 18x32x32\n",
    "        x = F.relu(self.conv1(x))\n",
    "        # 18x32x32 -> 18x16x16\n",
    "        x = self.pool(x)\n",
    "        # 18x16x16 -> 4608\n",
    "        x = x.view(-1, 18 * 16 * 16)\n",
    "        # 4608 -> 64\n",
    "        x = F.relu(self.fc1(x))\n",
    "        # 64 -> 10\n",
    "        # The softmax non-linearity is applied later (cf createLossAndOptimizer() fn)\n",
    "        x = self.fc2(x)\n",
    "        return x"
   ]
  },
  {
   "cell_type": "markdown",
   "metadata": {
    "id": "4m-VHCtRcayr"
   },
   "source": [
    "#### Linear Classifier"
   ]
  },
  {
   "cell_type": "code",
   "execution_count": 22,
   "metadata": {
    "id": "Rj-togN6cays"
   },
   "outputs": [],
   "source": [
    "class LinearClassifier(nn.Module):\n",
    "    \"\"\"\n",
    "    Linear Classifier\n",
    "    \"\"\"\n",
    "    def __init__(self):\n",
    "        super(LinearClassifier, self).__init__()\n",
    "        self.linear = nn.Linear(32 * 32 * 3, 10)\n",
    "\n",
    "    def forward(self, x):\n",
    "        # Flatten input 3x32x32 -> 3072\n",
    "        x = x.view(x.size(0), -1)\n",
    "        return self.linear(x)"
   ]
  },
  {
   "cell_type": "markdown",
   "metadata": {
    "id": "2SQi9Xf-t2Fu"
   },
   "source": [
    "### 3. Define a loss function and optimizer\n",
    "\n",
    "Let's use a Classification Cross-Entropy loss and ADAM (optionally, SGD with momentum). You can read more about  [optimization methods](https://pytorch.org/docs/stable/optim.html).\n",
    "\n"
   ]
  },
  {
   "cell_type": "code",
   "execution_count": 23,
   "metadata": {
    "id": "DOUiPtZQt2Fx"
   },
   "outputs": [],
   "source": [
    "import torch.optim as optim\n",
    "\n",
    "def createLossAndOptimizer(net, learning_rate=0.001):\n",
    "    # it combines softmax with negative log likelihood loss\n",
    "    criterion = nn.CrossEntropyLoss()  \n",
    "    #optimizer = optim.SGD(net.parameters(), lr=learning_rate, momentum=0.9)\n",
    "    optimizer = optim.Adam(net.parameters(), lr=learning_rate)\n",
    "    return criterion, optimizer"
   ]
  },
  {
   "cell_type": "markdown",
   "metadata": {
    "id": "saJW5bKRt2F9"
   },
   "source": [
    "### 4. Train the network\n",
    "\n",
    "\n",
    "This is when things start to get interesting.\n",
    "We simply have to loop over our data iterator, feed the inputs to the network, and optimize\n",
    "\n"
   ]
  },
  {
   "cell_type": "markdown",
   "metadata": {
    "id": "mNf1e8QZcay1"
   },
   "source": [
    "#### Data loader"
   ]
  },
  {
   "cell_type": "code",
   "execution_count": 24,
   "metadata": {
    "id": "EqDD8_z8cay2"
   },
   "outputs": [],
   "source": [
    "def get_train_loader(batch_size):\n",
    "    return torch.utils.data.DataLoader(train_set, batch_size=batch_size, sampler=train_sampler,\n",
    "                                              num_workers=num_workers)\n",
    "\n",
    "# Use larger batch size for validation to speed up computation\n",
    "val_loader = torch.utils.data.DataLoader(train_set, batch_size=128, sampler=val_sampler,\n",
    "                                          num_workers=num_workers)"
   ]
  },
  {
   "cell_type": "markdown",
   "metadata": {
    "id": "yTDHHbLpcay5"
   },
   "source": [
    "#### Training loop\n",
    "The training script: it takes ~10s per epoch with batch_size = 32"
   ]
  },
  {
   "cell_type": "code",
   "execution_count": 25,
   "metadata": {
    "id": "dATbDR5pt2GE"
   },
   "outputs": [],
   "source": [
    "def train(net, batch_size, n_epochs, learning_rate):\n",
    "    \"\"\"\n",
    "    Train a neural network and print statistics of the training\n",
    "    \n",
    "    :param net: (PyTorch Neural Network)\n",
    "    :param batch_size: (int)\n",
    "    :param n_epochs: (int)  Number of iterations on the training set\n",
    "    :param learning_rate: (float) learning rate used by the optimizer\n",
    "    \"\"\"\n",
    "    print(\"===== HYPERPARAMETERS =====\")\n",
    "    print(\"batch_size=\", batch_size)\n",
    "    print(\"n_epochs=\", n_epochs)\n",
    "    print(\"learning_rate=\", learning_rate)\n",
    "    print(\"=\" * 30)\n",
    "    \n",
    "    train_loader = get_train_loader(batch_size)\n",
    "    n_minibatches = len(train_loader)\n",
    "\n",
    "    criterion, optimizer = createLossAndOptimizer(net, learning_rate)\n",
    "    # Init variables used for plotting the loss\n",
    "    train_history = []\n",
    "    val_history = []\n",
    "\n",
    "    training_start_time = time.time()\n",
    "    best_error = np.inf\n",
    "    best_model_path = \"best_model.pth\"\n",
    "    \n",
    "    # Move model to gpu if possible\n",
    "    net = net.to(device)\n",
    "\n",
    "    for epoch in range(n_epochs):  # loop over the dataset multiple times\n",
    "\n",
    "        running_loss = 0.0\n",
    "        print_every = n_minibatches // 10\n",
    "        start_time = time.time()\n",
    "        total_train_loss = 0\n",
    "        \n",
    "        for i, (inputs, labels) in enumerate(train_loader):\n",
    "\n",
    "            # Move tensors to correct device\n",
    "            inputs, labels = inputs.to(device), labels.to(device)\n",
    "\n",
    "            # zero the parameter gradients\n",
    "            optimizer.zero_grad()\n",
    "\n",
    "            # forward + backward + optimize\n",
    "            outputs = net(inputs)\n",
    "            loss = criterion(outputs, labels)\n",
    "            loss.backward()\n",
    "            optimizer.step()\n",
    "\n",
    "            # print statistics\n",
    "            running_loss += loss.item()\n",
    "            total_train_loss += loss.item()\n",
    "\n",
    "            # print every 10th of epoch\n",
    "            if (i + 1) % (print_every + 1) == 0:    \n",
    "                print(\"Epoch {}, {:d}% \\t train_loss: {:.2f} took: {:.2f}s\".format(\n",
    "                      epoch + 1, int(100 * (i + 1) / n_minibatches), running_loss / print_every,\n",
    "                      time.time() - start_time))\n",
    "                running_loss = 0.0\n",
    "                start_time = time.time()\n",
    "\n",
    "        train_history.append(total_train_loss / len(train_loader))\n",
    "\n",
    "        total_val_loss = 0\n",
    "        # Do a pass on the validation set\n",
    "        # We don't need to compute gradient,\n",
    "        # we save memory and computation using th.no_grad()\n",
    "        with th.no_grad():\n",
    "          for inputs, labels in val_loader:\n",
    "              # Move tensors to correct device\n",
    "              inputs, labels = inputs.to(device), labels.to(device)\n",
    "              # Forward pass\n",
    "              predictions = net(inputs)\n",
    "              val_loss = criterion(predictions, labels)\n",
    "              total_val_loss += val_loss.item()\n",
    "            \n",
    "        val_history.append(total_val_loss / len(val_loader))\n",
    "        # Save model that performs best on validation set\n",
    "        if total_val_loss < best_error:\n",
    "            best_error = total_val_loss\n",
    "            th.save(net.state_dict(), best_model_path)\n",
    "\n",
    "        print(\"Validation loss = {:.2f}\".format(total_val_loss / len(val_loader)))\n",
    "\n",
    "    print(\"Training Finished, took {:.2f}s\".format(time.time() - training_start_time))\n",
    "    \n",
    "    # Load best model\n",
    "    net.load_state_dict(th.load(best_model_path))\n",
    "    \n",
    "    return train_history, val_history"
   ]
  },
  {
   "cell_type": "code",
   "execution_count": 26,
   "metadata": {
    "colab": {
     "base_uri": "https://localhost:8080/",
     "height": 1000
    },
    "id": "cJX2anB5cay_",
    "outputId": "ed3e2476-bdb7-4d6e-85cc-7c5718fd9eae"
   },
   "outputs": [],
   "source": [
    "net = SimpleConvolutionalNetwork()\n",
    "\n",
    "#train_history, val_history = train(net, batch_size=32, n_epochs=10, learning_rate=0.001)"
   ]
  },
  {
   "cell_type": "markdown",
   "metadata": {
    "id": "UkVKNPtccazC"
   },
   "source": [
    "Now, let's look at the evolution of the losses"
   ]
  },
  {
   "cell_type": "code",
   "execution_count": 27,
   "metadata": {
    "colab": {
     "base_uri": "https://localhost:8080/",
     "height": 404
    },
    "id": "4CUQt-HJcazF",
    "outputId": "c71c7128-a04f-4a18-e67d-96363ece96af"
   },
   "outputs": [],
   "source": [
    "#plot_losses(train_history, val_history)"
   ]
  },
  {
   "cell_type": "markdown",
   "metadata": {
    "id": "O90WcUTwt2GU"
   },
   "source": [
    "### 5. Test the network on the test data\n",
    "\n",
    "\n",
    "We have trained the network for 2 passes over the training dataset.\n",
    "But we need to check if the network has learnt anything at all.\n",
    "\n",
    "We will check this by predicting the class label that the neural network\n",
    "outputs, and checking it against the ground-truth. If the prediction is\n",
    "correct, we add the sample to the list of correct predictions.\n",
    "\n",
    "Okay, first step. Let us display an image from the test set to get familiar.\n",
    "\n"
   ]
  },
  {
   "cell_type": "code",
   "execution_count": 28,
   "metadata": {
    "colab": {
     "base_uri": "https://localhost:8080/",
     "height": 190
    },
    "id": "V4vljwBlt2GX",
    "outputId": "d4252b3c-f3b5-4619-a864-a472c1c49f4c"
   },
   "outputs": [
    {
     "data": {
      "text/plain": [
       "'try:\\n  images, labels = next(iter(test_loader))\\nexcept EOFError:\\n  pass\\n\\n# print images\\nimshow(torchvision.utils.make_grid(images))\\nprint(\"Ground truth:\\n\")\\n\\nprint(\\' \\'.join(\\'{:>10}\\'.format(classes[labels[j]]) for j in range(test_batch_size)))\\n'"
      ]
     },
     "execution_count": 28,
     "metadata": {},
     "output_type": "execute_result"
    }
   ],
   "source": [
    "'''try:\n",
    "  images, labels = next(iter(test_loader))\n",
    "except EOFError:\n",
    "  pass\n",
    "\n",
    "# print images\n",
    "imshow(torchvision.utils.make_grid(images))\n",
    "print(\"Ground truth:\\n\")\n",
    "\n",
    "print(' '.join('{:>10}'.format(classes[labels[j]]) for j in range(test_batch_size)))\n",
    "'''"
   ]
  },
  {
   "cell_type": "markdown",
   "metadata": {
    "id": "KpmaQT4Zt2Gn"
   },
   "source": [
    "Okay, now let us see what the neural network thinks these examples above are:\n",
    "\n"
   ]
  },
  {
   "cell_type": "code",
   "execution_count": 29,
   "metadata": {
    "colab": {
     "base_uri": "https://localhost:8080/",
     "height": 34
    },
    "id": "utIfocFrt2Gs",
    "outputId": "24170872-c43b-46fc-9b85-edcdbfda6172"
   },
   "outputs": [],
   "source": [
    "#outputs = net(images.to(device))\n",
    "#print(outputs.size())"
   ]
  },
  {
   "cell_type": "markdown",
   "metadata": {
    "id": "6mU42O0Gt2G2"
   },
   "source": [
    "The outputs are energies for the 10 classes.\n",
    "The higher the energy for a class, the more the network\n",
    "thinks that the image is from that particular class.\n",
    "So, let's get the index of the highest energy:\n",
    "\n"
   ]
  },
  {
   "cell_type": "code",
   "execution_count": 30,
   "metadata": {
    "colab": {
     "base_uri": "https://localhost:8080/",
     "height": 190
    },
    "id": "IWTWHHs9t2G5",
    "outputId": "cc24f028-fbbd-4dfa-92e1-b5e0eb92bff1"
   },
   "outputs": [
    {
     "data": {
      "text/plain": [
       "'_, predicted = torch.max(outputs, 1)\\n\\nprint(\"Predicted:\\n\")\\nimshow(torchvision.utils.make_grid(images))\\n\\nprint(\\' \\'.join(\\'{:>10}\\'.format(classes[predicted[j]]) for j in range(test_batch_size)))\\n'"
      ]
     },
     "execution_count": 30,
     "metadata": {},
     "output_type": "execute_result"
    }
   ],
   "source": [
    "'''_, predicted = torch.max(outputs, 1)\n",
    "\n",
    "print(\"Predicted:\\n\")\n",
    "imshow(torchvision.utils.make_grid(images))\n",
    "\n",
    "print(' '.join('{:>10}'.format(classes[predicted[j]]) for j in range(test_batch_size)))\n",
    "'''"
   ]
  },
  {
   "cell_type": "markdown",
   "metadata": {
    "id": "AUpCEAOTt2HK"
   },
   "source": [
    "The results seem pretty good.\n",
    "\n",
    "Let us look at how the network performs on the whole test set.\n",
    "\n"
   ]
  },
  {
   "cell_type": "code",
   "execution_count": 31,
   "metadata": {
    "colab": {
     "base_uri": "https://localhost:8080/",
     "height": 86
    },
    "id": "LI6JtYwTt2HM",
    "outputId": "dde9eef5-b8b5-4c35-9eee-1434d6c5e970"
   },
   "outputs": [
    {
     "name": "stdout",
     "output_type": "stream",
     "text": [
      "Computing accuracy...\n"
     ]
    }
   ],
   "source": [
    "def dataset_accuracy(net, data_loader, name=\"\"):\n",
    "    net = net.to(device)\n",
    "    correct = 0\n",
    "    total = 0\n",
    "    for images, labels in data_loader:\n",
    "        images, labels = images.to(device), labels.to(device)\n",
    "        outputs = net(images)\n",
    "        _, predicted = torch.max(outputs, 1)\n",
    "        total += labels.size(0)\n",
    "        correct += (predicted == labels).sum()\n",
    "    accuracy = 100 * float(correct) / total\n",
    "    print('Accuracy of the network on the {} {} images: {:.2f} %'.format(total, name, accuracy))\n",
    "\n",
    "def train_set_accuracy(net):\n",
    "    dataset_accuracy(net, train_loader, \"train\")\n",
    "\n",
    "def val_set_accuracy(net):\n",
    "    dataset_accuracy(net, val_loader, \"validation\")  \n",
    "    \n",
    "def test_set_accuracy(net):\n",
    "    dataset_accuracy(net, test_loader, \"test\")\n",
    "\n",
    "def compute_accuracy(net):\n",
    "    train_set_accuracy(net)\n",
    "    val_set_accuracy(net)\n",
    "    test_set_accuracy(net)\n",
    "    \n",
    "print(\"Computing accuracy...\")\n",
    "#compute_accuracy(net)"
   ]
  },
  {
   "cell_type": "markdown",
   "metadata": {
    "id": "iGGyra-4t2HW"
   },
   "source": [
    "That initial 63.78 % on the test set of images looks waaay better than chance, which is 10% accuracy (randomly picking\n",
    "a class out of 10 classes).\n",
    "Seems like the network learnt something.\n",
    "As a baseline, a linear model achieves around 30% accuracy.\n",
    "\n",
    "What are the classes that performed well, and the classes that did not perform well?\n",
    "\n"
   ]
  },
  {
   "cell_type": "code",
   "execution_count": 32,
   "metadata": {
    "colab": {
     "base_uri": "https://localhost:8080/",
     "height": 208
    },
    "id": "rkim9_INt2HY",
    "outputId": "5a2ca19a-3699-44de-e7e6-b71b7c8adcac"
   },
   "outputs": [],
   "source": [
    "def accuracy_per_class(net):\n",
    "    net = net.to(device)\n",
    "    n_classes = 10\n",
    "    # (real, predicted)\n",
    "    confusion_matrix = np.zeros((n_classes, n_classes), dtype=np.int64)\n",
    "\n",
    "    for images, labels in test_loader:\n",
    "        images, labels = images, labels = images.to(device), labels.to(device)\n",
    "        outputs = net(images)\n",
    "        _, predicted = torch.max(outputs.data, 1)\n",
    "        for i in range(test_batch_size):\n",
    "            confusion_matrix[labels[i], predicted[i]] += 1\n",
    "            label = labels[i]\n",
    "\n",
    "    print(\"{:<10} {:^10}\".format(\"Class\", \"Accuracy (%)\"))\n",
    "    for i in range(n_classes):\n",
    "        class_total = confusion_matrix[i, :].sum()\n",
    "        class_correct = confusion_matrix[i, i]\n",
    "        percentage_correct = 100.0 * float(class_correct) / class_total\n",
    "        \n",
    "        print('{:<10} {:^10.2f}'.format(classes[i], percentage_correct))\n",
    "    return confusion_matrix\n",
    "\n",
    "#confusion_matrix = accuracy_per_class(net)"
   ]
  },
  {
   "cell_type": "markdown",
   "metadata": {
    "id": "AZKLymOacazg"
   },
   "source": [
    "### Confusion Matrix"
   ]
  },
  {
   "cell_type": "markdown",
   "metadata": {
    "id": "ekJHz3vpcazg"
   },
   "source": [
    "Let's look at what type of error our networks makes... \n",
    "It seems that our network is pretty good at classifying ships,\n",
    "but has some difficulties to differentiate cats and dogs.\n",
    "Also, it classifies a lot of trucks as cars."
   ]
  },
  {
   "cell_type": "code",
   "execution_count": 33,
   "metadata": {
    "colab": {
     "base_uri": "https://localhost:8080/",
     "height": 1000
    },
    "id": "1aYMqD1Ocazi",
    "outputId": "63ae60dc-834f-4ee8-b75b-b765e1bb9cdf"
   },
   "outputs": [],
   "source": [
    "# Plot normalized confusion matrix\n",
    "#plot_confusion_matrix(confusion_matrix, classes, normalize=True,\n",
    "                      #title='Normalized confusion matrix')\n",
    "\n",
    "# Plot non-normalized confusion matrix\n",
    "#plot_confusion_matrix(confusion_matrix, classes,\n",
    "                      #title='Confusion matrix, without normalization')"
   ]
  },
  {
   "cell_type": "markdown",
   "metadata": {
    "id": "MVv-mV8Pt2Hs"
   },
   "source": [
    "# III. Exploring CNN Architectures\n",
    "\n",
    "Now, it is your turn to build a Convolutional Neural Network. The goal of this section is to explore different CNN architectures and set hyperparameters in order to obtain the best accuracy on the **test** set!\n",
    "\n",
    "The network that you have to tweak is called **MyConvolutionalNetwork**.\n",
    "\n",
    "You can start changing the batch_size, number of epochs and then try adding more convolutional layers."
   ]
  },
  {
   "cell_type": "markdown",
   "metadata": {
    "id": "h1blK9eicazo"
   },
   "source": [
    "### PyTorch functions to build the network\n",
    "- **nn.Conv2d(in_channels, out_channels, kernel_size, stride=1, padding=0):** Convolution layer. You can read the full documentation [here](http://pytorch.org/docs/master/nn.html#conv2d)\n",
    "\n",
    "- **nn.MaxPool2d(kernel_size, stride=None, padding=0):** Max pooling layer. You can read the full documentation [here](http://pytorch.org/docs/master/nn.html#maxpool2d)\n",
    "\n",
    "- **F.relu(Z1):** computes the element-wise ReLU of Z1 (which can be of any shape). You can read the full documentation [here.](http://pytorch.org/docs/master/nn.html#torch.nn.ReLU)\n",
    "\n",
    "- **x.view(new_shape)**: Returns a new tensor with the same data but different size. It is the equivalent of numpy function *reshape* (Gives a new shape to an array without changing its data.). You can read the full documentation [here.](http://pytorch.org/docs/master/tensors.html#torch.Tensor.view)\n",
    "\n",
    "- **nn.Linear(in_features, out_features):** Applies a linear transformation to the incoming data: $y = Ax + b$, it is also called a fully connected (fc) layer. You can read the full documentation [here.](http://pytorch.org/docs/master/nn.html#linear-layers)"
   ]
  },
  {
   "cell_type": "markdown",
   "metadata": {
    "id": "a8-lKBaacazp"
   },
   "source": [
    "**Convolution Formulas**:\n",
    "\n",
    "The formulas relating the output shape $(C_2, H_2, W_2)$ of the convolution to the input shape $(C_1, H_1, W_1)$ are:\n",
    "\n",
    "\n",
    "$$ H_2 = \\lfloor \\frac{H_1 - kernel\\_size + 2 \\times padding}{stride} \\rfloor +1 $$\n",
    "\n",
    "$$ W_2 = \\lfloor \\frac{W_1 - kernel\\_size + 2 \\times padding}{stride} \\rfloor +1 $$\n",
    "\n",
    "$$ C_2 = \\text{number of filters used in the convolution}$$\n",
    "\n",
    "NOTE: $C_2 = C_1$ in the case of max pooling\n",
    "\n",
    "where:\n",
    "- $H_2$: height of the output volume  \n",
    "- $W_2$: width of the output volume  \n",
    "- $C_1$: in_channels, number of channels in the input volume\n",
    "- $C_2$: out_channels"
   ]
  },
  {
   "cell_type": "code",
   "execution_count": 34,
   "metadata": {
    "id": "acppf3nkcazr"
   },
   "outputs": [],
   "source": [
    "def get_output_size(in_size, kernel_size, stride=1, padding=0):\n",
    "    \"\"\"\n",
    "    Get the output size given all the parameters of the convolution\n",
    "    :param in_size: (int) input size\n",
    "    :param kernel_size: (int)\n",
    "    :param stride: (int)\n",
    "    :param paddind: (int)\n",
    "    :return: (int)\n",
    "    \"\"\"\n",
    "    return int((in_size - kernel_size + 2 * padding) / stride) + 1"
   ]
  },
  {
   "cell_type": "markdown",
   "metadata": {
    "id": "SEsbZoTOcazu"
   },
   "source": [
    "#### Example of use of helper method get_output_size() \n",
    "\n",
    "Let's assume you have an *input volume of size 3x32x32* (where 3 is the number of channels)\n",
    "and you use a 2D convolution with the following parameters:\n",
    "\n",
    "```python\n",
    "conv1 = nn.Conv2d(3, 18, kernel_size=7, stride=2, padding=1)\n",
    "```\n",
    "then, the size of the output volume is 18x?x? (because we have 18 filters) where ? is given by the convolution formulas (see above).\n",
    "\n",
    "**get_output_size()** function allows to compute that size:\n",
    "\n",
    "```\n",
    "out_size = get_output_size(in_size=32, kernel_size=7, stride=2, padding=1)\n",
    "print(out_size) # prints 14\n",
    "```\n",
    "\n",
    "That is to say, *the output volume is 18x14x14*"
   ]
  },
  {
   "cell_type": "code",
   "execution_count": 35,
   "metadata": {
    "colab": {
     "base_uri": "https://localhost:8080/",
     "height": 34
    },
    "id": "2JFQ1wgKcazv",
    "outputId": "c5a5211b-c2ec-4c38-d9c0-5c049f8204aa"
   },
   "outputs": [
    {
     "name": "stdout",
     "output_type": "stream",
     "text": [
      "32\n"
     ]
    }
   ],
   "source": [
    "out_size = get_output_size(in_size=32, kernel_size=3, stride=1, padding=1)\n",
    "print(out_size)"
   ]
  },
  {
   "cell_type": "markdown",
   "metadata": {
    "id": "wviV5iQIcazz"
   },
   "source": [
    "Below is the neural network you have to edit:"
   ]
  },
  {
   "cell_type": "code",
   "execution_count": 60,
   "metadata": {
    "id": "fnKUPUDTcaz1"
   },
   "outputs": [],
   "source": [
    "class MyConvolutionalNetwork(nn.Module):\n",
    "    def __init__(self):\n",
    "        super(MyConvolutionalNetwork, self).__init__()\n",
    "        \n",
    "        self.conv1 = nn.Conv2d(3, 64, kernel_size=3, stride=1, padding=1)\n",
    "        out_size = get_output_size(in_size=32, kernel_size=3, stride=1, padding=1)\n",
    "        print(out_size)\n",
    "        \n",
    "        self.conv2 = nn.Conv2d(64, 128, kernel_size=3, stride=1, padding=1)\n",
    "        out_size = get_output_size(in_size=out_size, kernel_size=3, stride=1, padding=1)\n",
    "        print(out_size)\n",
    "        \n",
    "        self.pool = nn.MaxPool2d(kernel_size=2, stride=2, padding=0)\n",
    "        out_size = get_output_size(in_size=out_size, kernel_size=2, stride=2, padding=0)\n",
    "        print(out_size)\n",
    "        \n",
    "        # cf comments in forward() to have step by step comments\n",
    "        \n",
    "        self.flatenned_size = 128 * out_size * out_size\n",
    "\n",
    "        self.fc1 = nn.Linear(self.flatenned_size, 1024)\n",
    "        self.fc2 = nn.Linear(1024, 1024)\n",
    "        self.fc3 = nn.Linear(1024, 10)\n",
    "        \n",
    "        self.dropout = nn.Dropout(0.65)\n",
    "\n",
    "    def forward(self, x):\n",
    "        \"\"\"\n",
    "        Forward pass,\n",
    "        x shape is (batch_size, 3, 32, 32)\n",
    "        (color channel first)\n",
    "        in the comments, we omit the batch_size in the shape\n",
    "        \"\"\"\n",
    "        x = F.relu(self.conv1(x))\n",
    "        x = F.relu(self.conv2(x))\n",
    "        x = self.pool(x)\n",
    "        x = x.view(-1, self.flatenned_size)\n",
    "        x = F.relu(self.fc1(x))\n",
    "        x = self.dropout(x)\n",
    "        x = F.relu(self.fc2(x))\n",
    "        x = self.dropout(x)\n",
    "        x = self.fc3(x)\n",
    "        return x"
   ]
  },
  {
   "cell_type": "code",
   "execution_count": 61,
   "metadata": {},
   "outputs": [],
   "source": [
    "th.cuda.empty_cache()"
   ]
  },
  {
   "cell_type": "code",
   "execution_count": null,
   "metadata": {
    "colab": {
     "base_uri": "https://localhost:8080/",
     "height": 1000
    },
    "id": "ruLWyTSocaz5",
    "outputId": "c14bb602-b865-4cd6-984c-617d114d2aec",
    "scrolled": false
   },
   "outputs": [
    {
     "name": "stdout",
     "output_type": "stream",
     "text": [
      "32\n",
      "32\n",
      "16\n",
      "===== HYPERPARAMETERS =====\n",
      "batch_size= 32\n",
      "n_epochs= 10\n",
      "learning_rate= 0.0001\n",
      "==============================\n",
      "Epoch 1, 10% \t train_loss: 2.20 took: 4.65s\n",
      "Epoch 1, 20% \t train_loss: 1.99 took: 4.55s\n",
      "Epoch 1, 30% \t train_loss: 1.83 took: 4.51s\n",
      "Epoch 1, 40% \t train_loss: 1.71 took: 4.54s\n",
      "Epoch 1, 50% \t train_loss: 1.65 took: 4.48s\n",
      "Epoch 1, 60% \t train_loss: 1.58 took: 4.52s\n",
      "Epoch 1, 70% \t train_loss: 1.54 took: 4.54s\n",
      "Epoch 1, 80% \t train_loss: 1.51 took: 4.51s\n",
      "Epoch 1, 90% \t train_loss: 1.49 took: 4.50s\n",
      "Validation loss = 1.43\n",
      "Epoch 2, 10% \t train_loss: 1.40 took: 4.63s\n",
      "Epoch 2, 20% \t train_loss: 1.37 took: 4.50s\n",
      "Epoch 2, 30% \t train_loss: 1.33 took: 4.50s\n",
      "Epoch 2, 40% \t train_loss: 1.34 took: 4.51s\n",
      "Epoch 2, 50% \t train_loss: 1.34 took: 4.53s\n",
      "Epoch 2, 60% \t train_loss: 1.31 took: 4.54s\n",
      "Epoch 2, 70% \t train_loss: 1.28 took: 4.48s\n",
      "Epoch 2, 80% \t train_loss: 1.26 took: 4.48s\n",
      "Epoch 2, 90% \t train_loss: 1.26 took: 4.49s\n",
      "Validation loss = 1.26\n",
      "Epoch 3, 10% \t train_loss: 1.19 took: 4.70s\n",
      "Epoch 3, 20% \t train_loss: 1.16 took: 4.61s\n",
      "Epoch 3, 30% \t train_loss: 1.16 took: 4.90s\n",
      "Epoch 3, 40% \t train_loss: 1.14 took: 4.61s\n",
      "Epoch 3, 50% \t train_loss: 1.14 took: 4.59s\n",
      "Epoch 3, 60% \t train_loss: 1.10 took: 4.59s\n",
      "Epoch 3, 70% \t train_loss: 1.13 took: 4.55s\n",
      "Epoch 3, 80% \t train_loss: 1.12 took: 4.51s\n",
      "Epoch 3, 90% \t train_loss: 1.11 took: 4.51s\n",
      "Validation loss = 1.13\n",
      "Epoch 4, 10% \t train_loss: 1.03 took: 4.78s\n"
     ]
    }
   ],
   "source": [
    "net = MyConvolutionalNetwork()\n",
    "train_history, val_history = train(net, batch_size=32, n_epochs=10, learning_rate=0.0001)"
   ]
  },
  {
   "cell_type": "markdown",
   "metadata": {
    "id": "u7cgVbkDcaz9"
   },
   "source": [
    "### Losses Plot"
   ]
  },
  {
   "cell_type": "code",
   "execution_count": null,
   "metadata": {
    "colab": {
     "base_uri": "https://localhost:8080/",
     "height": 404
    },
    "id": "XtXu67qbcaz-",
    "outputId": "71d1976c-e245-4abb-b711-3ca5ad5ecd26"
   },
   "outputs": [],
   "source": [
    "plot_losses(train_history, val_history)"
   ]
  },
  {
   "cell_type": "markdown",
   "metadata": {
    "id": "TuGKgAMWcaz_"
   },
   "source": [
    "### Accuracy of the trained model"
   ]
  },
  {
   "cell_type": "code",
   "execution_count": null,
   "metadata": {
    "colab": {
     "base_uri": "https://localhost:8080/",
     "height": 69
    },
    "id": "TWowqQhYca0B",
    "outputId": "18ad718c-9864-4f63-ab0f-f472546daf85"
   },
   "outputs": [],
   "source": [
    "compute_accuracy(net)"
   ]
  },
  {
   "cell_type": "markdown",
   "metadata": {
    "id": "st9f_4opca0F"
   },
   "source": [
    "**Baseline: Simple Convolutional Neural Network (form part II)**\n",
    "\n",
    "<table>\n",
    "<tr>\n",
    "    <td>Accuracy on the test set:</td>\n",
    "    <td>59.98 %</td>\n",
    "</tr>\n",
    "</table>"
   ]
  },
  {
   "cell_type": "code",
   "execution_count": 53,
   "metadata": {
    "colab": {
     "base_uri": "https://localhost:8080/",
     "height": 208
    },
    "id": "OKvmb4p-ca0I",
    "outputId": "ffdd797b-fff8-45ff-9028-3d116941add5"
   },
   "outputs": [
    {
     "name": "stdout",
     "output_type": "stream",
     "text": [
      "Class      Accuracy (%)\n",
      "plane        73.90   \n",
      "car          72.70   \n",
      "bird         51.80   \n",
      "cat          70.70   \n",
      "deer         59.00   \n",
      "dog          51.70   \n",
      "frog         72.40   \n",
      "horse        71.10   \n",
      "ship         82.70   \n",
      "truck        86.00   \n"
     ]
    }
   ],
   "source": [
    "confusion_matrix = accuracy_per_class(net)"
   ]
  },
  {
   "cell_type": "code",
   "execution_count": 42,
   "metadata": {
    "colab": {
     "base_uri": "https://localhost:8080/",
     "height": 585
    },
    "id": "ih5Pj0WBca0L",
    "outputId": "97fc6785-0f1b-4cf3-e1a3-ac418ed6cc08"
   },
   "outputs": [
    {
     "data": {
      "image/png": "[encoded data removed]",
      "text/plain": [
       "<Figure size 576x576 with 2 Axes>"
      ]
     },
     "metadata": {
      "needs_background": "light"
     },
     "output_type": "display_data"
    }
   ],
   "source": [
    "plot_confusion_matrix(confusion_matrix, classes,\n",
    "                      title='Confusion matrix, without normalization')"
   ]
  },
  {
   "cell_type": "markdown",
   "metadata": {
    "id": "7xzIkZqit2IA"
   },
   "source": [
    "### Going further\n",
    "\n",
    "- [Coursera Course on CNN](https://www.coursera.org/learn/convolutional-neural-networks)\n",
    "- [Stanford Course](http://cs231n.stanford.edu/syllabus.html)\n",
    "- [PyTorch Tutorial](http://pytorch.org/tutorials/beginner/blitz/cifar10_tutorial.html)\n",
    "- [How backpropagation works](http://michaelnielsen.org/blog/how-the-backpropagation-algorithm-works/) (Michael Nielsen)\n",
    "\n",
    "If you feel like this was too easy peasy:\n",
    "\n",
    "-Investigate further [optimization methods](https://pytorch.org/docs/stable/optim.html) beyond SGD, and Adam and their parameters.\n",
    "\n",
    "-Look at ways to improve your network using regularization techniques\n",
    "\n",
    "-Look at ways to visualize network activations for model interpretability\n",
    "\n",
    "-Use transfer learning, in order to use torchvision with pretrained=True with some pretrained models\n",
    "\n",
    "\n",
    "Acknowledgements: \n",
    "This tutorial is based on the [original PyTorch tutorial](https://pytorch.org/tutorials/beginner/blitz/cifar10_tutorial.html) and was adapted by [Antonin Raffin](http://araffin.github.io/) for the ROB313 course at ENSTA Paris. Thanks to Clement Pinard for feedback!\n"
   ]
  },
  {
   "cell_type": "markdown",
   "metadata": {
    "id": "XEFW6M6jZtWk"
   },
   "source": [
    "### More documentation/ questions to explore about Google Colab: \n",
    "\n",
    "-How to connect your Google Drive with Google Colab?\n",
    "\n",
    "-How to import a new notebook and save it to your GDrive?\n",
    "\n",
    "-How to use files which are contained in your GDrive?\n",
    "\n",
    "Some tips [here](https://medium.com/deep-learning-turkey/google-colab-free-gpu-tutorial-e113627b9f5d)\n",
    "\n",
    "\n",
    "\n",
    "\n",
    "## Extras to read later\n",
    "### Visualizing Convolution parameters:\n",
    "[A guide to convolution arithmetic for deep learning](https://github.com/vdumoulin/conv_arithmetic/blob/master/README.md) \n",
    "by Vincent Dumoulin, Francesco Visin \n",
    "\n",
    "\n",
    "### Documentation of autograd and Function: \n",
    "[Autograd](http://pytorch.org/docs/autograd)\n"
   ]
  }
 ],
 "metadata": {
  "accelerator": "GPU",
  "colab": {
   "collapsed_sections": [],
   "include_colab_link": true,
   "name": "PyTorch_cifar10_tutorial_ROB313_2020.ipynb",
   "provenance": []
  },
  "kernelspec": {
   "display_name": "Python [conda env:deep] *",
   "language": "python",
   "name": "conda-env-deep-py"
  },
  "language_info": {
   "codemirror_mode": {
    "name": "ipython",
    "version": 3
   },
   "file_extension": ".py",
   "mimetype": "text/x-python",
   "name": "python",
   "nbconvert_exporter": "python",
   "pygments_lexer": "ipython3",
   "version": "3.8.5"
  }
 },
 "nbformat": 4,
 "nbformat_minor": 1
}
